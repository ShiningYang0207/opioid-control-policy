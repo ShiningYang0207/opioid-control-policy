{
 "cells": [
  {
   "cell_type": "code",
   "execution_count": 2,
   "metadata": {},
   "outputs": [],
   "source": [
    "import pandas as pd\n",
    "import numpy as np\n",
    "import gzip\n",
    "import os\n",
    "import glob"
   ]
  },
  {
   "cell_type": "markdown",
   "metadata": {},
   "source": [
    "## Data cleaning"
   ]
  },
  {
   "cell_type": "markdown",
   "metadata": {},
   "source": [
    "### Looping over every zipped state data and read as csv"
   ]
  },
  {
   "cell_type": "code",
   "execution_count": 14,
   "metadata": {},
   "outputs": [
    {
     "name": "stderr",
     "output_type": "stream",
     "text": [
      "/Users/yangshining/opt/miniconda3/lib/python3.9/site-packages/IPython/core/interactiveshell.py:3441: FutureWarning: The error_bad_lines argument has been deprecated and will be removed in a future version.\n",
      "\n",
      "\n",
      "  exec(code_obj, self.user_global_ns, self.user_ns)\n"
     ]
    },
    {
     "name": "stdout",
     "output_type": "stream",
     "text": [
      "8736\n"
     ]
    },
    {
     "data": {
      "text/plain": [
       "TX    2037\n",
       "GA    1366\n",
       "MS     729\n",
       "OK     693\n",
       "AL     603\n",
       "FL     600\n",
       "LA     571\n",
       "MT     430\n",
       "SC     414\n",
       "ID     364\n",
       "WA     351\n",
       "OR     312\n",
       "NM     266\n",
       "Name: BUYER_STATE, dtype: int64"
      ]
     },
     "execution_count": 14,
     "metadata": {},
     "output_type": "execute_result"
    }
   ],
   "source": [
    "# Don't run this part!!! The raw data is on Shining's laptop locally\n",
    "\n",
    "zipfiles = \"/Users/yangshining/Desktop/2021 fall @duke/IDS 720/mid-sem project/data/opioid_shipment/*.gz\"\n",
    "\n",
    "filelist = glob.glob(zipfiles)\n",
    "\n",
    "select_data = []\n",
    "\n",
    "for gzfile in filelist:\n",
    "    raw = pd.read_csv(gzfile, iterator= True, chunksize = 10000, compression='gzip', error_bad_lines=False)\n",
    "\n",
    "\n",
    "    for df in raw:\n",
    "\n",
    "        df[\"TRANSACTION_DATE1\"] = pd.to_datetime(df[\"TRANSACTION_DATE\"], format='%m%d%Y') # Convert transaction data to standardized date time\n",
    "\n",
    "        df[\"year\"] = pd.DatetimeIndex(df[\"TRANSACTION_DATE1\"]).year # Extract year\n",
    "\n",
    "        df = df[[\"BUYER_COUNTY\", \"BUYER_STATE\", \"year\", \"MME\"]] # Subset the columns that we need\n",
    "\n",
    "        select_data.append(df) # Append the chunks to the list\n",
    "\n",
    "\n",
    "\n",
    "whole_data = pd.concat(select_data) # Concatenate data\n",
    "\n",
    "grouped = whole_data.groupby([\"BUYER_STATE\", \"BUYER_COUNTY\", \"year\"], as_index=False).sum(\"MME\")\n",
    "\n",
    "\n",
    "\n",
    "# Test if the data is correctly loaded\n",
    "\n",
    "print(len(grouped))\n",
    "\n",
    "grouped[\"BUYER_STATE\"].value_counts()"
   ]
  },
  {
   "cell_type": "markdown",
   "metadata": {},
   "source": [
    "## Read parquet data (Run this part so that you don't need to go over the large loop above)"
   ]
  },
  {
   "cell_type": "code",
   "execution_count": 6,
   "metadata": {},
   "outputs": [],
   "source": [
    "grouped = pd.read_parquet(\"/Users/yangshining/Desktop/pds2021-opioids-pds6/10_modified_data/opioid_whole_final.parquet\", engine='fastparquet')"
   ]
  },
  {
   "cell_type": "code",
   "execution_count": 11,
   "metadata": {},
   "outputs": [
    {
     "data": {
      "text/plain": [
       "8736"
      ]
     },
     "execution_count": 11,
     "metadata": {},
     "output_type": "execute_result"
    }
   ],
   "source": [
    "len(grouped)"
   ]
  },
  {
   "cell_type": "code",
   "execution_count": 8,
   "metadata": {},
   "outputs": [],
   "source": [
    "# Test if each row represent a unique unit of data\n",
    "assert len(grouped[grouped.duplicated([\"BUYER_STATE\", \"BUYER_COUNTY\", \"year\"], keep=False)==True]) == 0"
   ]
  },
  {
   "cell_type": "code",
   "execution_count": 10,
   "metadata": {},
   "outputs": [
    {
     "data": {
      "text/html": [
       "<div>\n",
       "<style scoped>\n",
       "    .dataframe tbody tr th:only-of-type {\n",
       "        vertical-align: middle;\n",
       "    }\n",
       "\n",
       "    .dataframe tbody tr th {\n",
       "        vertical-align: top;\n",
       "    }\n",
       "\n",
       "    .dataframe thead th {\n",
       "        text-align: right;\n",
       "    }\n",
       "</style>\n",
       "<table border=\"1\" class=\"dataframe\">\n",
       "  <thead>\n",
       "    <tr style=\"text-align: right;\">\n",
       "      <th></th>\n",
       "      <th>BUYER_STATE</th>\n",
       "      <th>BUYER_COUNTY</th>\n",
       "      <th>year</th>\n",
       "      <th>MME</th>\n",
       "    </tr>\n",
       "  </thead>\n",
       "  <tbody>\n",
       "    <tr>\n",
       "      <th>4663</th>\n",
       "      <td>NM</td>\n",
       "      <td>BERNALILLO</td>\n",
       "      <td>2006</td>\n",
       "      <td>1.915714e+08</td>\n",
       "    </tr>\n",
       "  </tbody>\n",
       "</table>\n",
       "</div>"
      ],
      "text/plain": [
       "     BUYER_STATE BUYER_COUNTY  year           MME\n",
       "4663          NM   BERNALILLO  2006  1.915714e+08"
      ]
     },
     "execution_count": 10,
     "metadata": {},
     "output_type": "execute_result"
    }
   ],
   "source": [
    "# Load a random row to see if the dataset looks correct\n",
    "grouped[(grouped[\"year\"]==2006)& (grouped[\"BUYER_COUNTY\"]==\"BERNALILLO\")]"
   ]
  },
  {
   "cell_type": "markdown",
   "metadata": {},
   "source": [
    "### Store data in parquet form"
   ]
  },
  {
   "cell_type": "code",
   "execution_count": 16,
   "metadata": {},
   "outputs": [],
   "source": [
    "grouped.to_parquet('/Users/yangshining/pds2021-opioids-pds6/10_modified_data/opioid_whole_final.parquet', engine='fastparquet')"
   ]
  }
 ],
 "metadata": {
  "interpreter": {
   "hash": "9187b5666a5a3d04f2c74cd06b2af6f40fb3af58e398847229b96a5acbbf62ce"
  },
  "kernelspec": {
   "display_name": "Python 3.9.6 64-bit ('base': conda)",
   "name": "python3"
  },
  "language_info": {
   "codemirror_mode": {
    "name": "ipython",
    "version": 3
   },
   "file_extension": ".py",
   "mimetype": "text/x-python",
   "name": "python",
   "nbconvert_exporter": "python",
   "pygments_lexer": "ipython3",
   "version": "3.9.6"
  },
  "orig_nbformat": 4
 },
 "nbformat": 4,
 "nbformat_minor": 2
}
